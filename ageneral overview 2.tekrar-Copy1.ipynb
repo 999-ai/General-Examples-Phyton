{
 "cells": [
  {
   "cell_type": "code",
   "execution_count": 3,
   "id": "b778c7ba-0e81-4ed0-8242-a76d62132c7d",
   "metadata": {},
   "outputs": [
    {
     "data": {
      "text/plain": [
       "True"
      ]
     },
     "execution_count": 3,
     "metadata": {},
     "output_type": "execute_result"
    }
   ],
   "source": [
    "#Asal Sayı Kontrolü: Bir sayının asal olup olmadığını kontrol eden bir fonksiyon yazın.\n",
    "def prime_no(n):\n",
    "    if n<2:\n",
    "     return False\n",
    "    for item in range(2,n):\n",
    "        if n%item==0:\n",
    "            return False\n",
    "        return True\n",
    "prime_no(29)"
   ]
  },
  {
   "cell_type": "code",
   "execution_count": 9,
   "id": "ad7d9320-3069-450d-9843-76343ff8e469",
   "metadata": {},
   "outputs": [
    {
     "data": {
      "text/plain": [
       "True"
      ]
     },
     "execution_count": 9,
     "metadata": {},
     "output_type": "execute_result"
    }
   ],
   "source": [
    "def prime_no(n):\n",
    "    if n<2:\n",
    "     return False\n",
    "    for item in range(2,int(n**0.5)+1):\n",
    "        if n%item==0:\n",
    "            return False\n",
    "        return True\n",
    "prime_no(29)"
   ]
  },
  {
   "cell_type": "code",
   "execution_count": 19,
   "id": "8fdf3e1b-f209-404e-a5f5-b28bae663609",
   "metadata": {},
   "outputs": [
    {
     "name": "stdin",
     "output_type": "stream",
     "text": [
      "make a sentence for me you are a liar\n"
     ]
    },
    {
     "data": {
      "text/plain": [
       "'rail a era uoy'"
      ]
     },
     "execution_count": 19,
     "metadata": {},
     "output_type": "execute_result"
    }
   ],
   "source": [
    "# Palindrom Kontrolü: Kullanıcıdan alınan bir kelimenin palindrom olup olmadığını kontrol eden bir program yazın.\n",
    "def reversed():\n",
    " sentence=input(\"make a sentence for me\")\n",
    " reversed_sentence=sentence[::-1]\n",
    " return f\"{reversed_sentence}\"\n",
    "\n",
    "reversed()\n",
    "\n",
    "\n"
   ]
  },
  {
   "cell_type": "code",
   "execution_count": 17,
   "id": "47b406c3-4ddd-4f8a-b1ff-89f30943eb5b",
   "metadata": {},
   "outputs": [
    {
     "data": {
      "text/plain": [
       "False"
      ]
     },
     "execution_count": 17,
     "metadata": {},
     "output_type": "execute_result"
    }
   ],
   "source": [
    "def palindrom(word):\n",
    "    return word==word[::-1]\n",
    "palindrom(\"You are liar\") \n",
    "\n",
    "\n",
    "#kısmı, kelimenin kendisi ile ters çevrilmiş halini karşılaştırır. \n",
    "#Eğer iki değer eşitse, fonksiyon True (doğru) döner; değilse False (yanlış) döner."
   ]
  },
  {
   "cell_type": "code",
   "execution_count": 31,
   "id": "742f6642-920b-4bb1-a2be-fe87f3888d97",
   "metadata": {},
   "outputs": [
    {
     "name": "stdin",
     "output_type": "stream",
     "text": [
      "say a number to me for factorization 6\n"
     ]
    },
    {
     "data": {
      "text/plain": [
       "'[1, 2, 3, 6]'"
      ]
     },
     "execution_count": 31,
     "metadata": {},
     "output_type": "execute_result"
    }
   ],
   "source": [
    "# Çarpanlarına Ayırma: Bir sayıyı çarpanlarına ayıran bir program yazın\n",
    "def factorization(): \n",
    " factorization_list=[]\n",
    " number=int(input(\"say a number to me for factorization\"))\n",
    " for item in range(1,number+1):\n",
    "  if number%item==0:\n",
    "    factorization_list.append(item)\n",
    " return f\"{factorization_list}\"\n",
    "\n",
    "factorization()\n",
    "            \n",
    "  "
   ]
  },
  {
   "cell_type": "code",
   "execution_count": 39,
   "id": "045054e2-22bd-4d20-9192-eec706ac682f",
   "metadata": {},
   "outputs": [
    {
     "name": "stdin",
     "output_type": "stream",
     "text": [
      "Opt for a number 6\n"
     ]
    },
    {
     "data": {
      "text/plain": [
       "'6is perfect number'"
      ]
     },
     "execution_count": 39,
     "metadata": {},
     "output_type": "execute_result"
    }
   ],
   "source": [
    "#Mükemmel Sayı Kontrolü: \n",
    "#Verilen sayının mükemmel sayı olup olmadığını kontrol eden bir fonksiyon yazın \n",
    "#(Bir sayının kendisi hariç bölenlerinin toplamı kendisine eşitse, o sayı mükemmeldir).\n",
    "\n",
    "def perfect_no():\n",
    "    sum=0\n",
    "    no=int(input(\"Opt for a number\"))\n",
    "    for item in range(1,no):\n",
    "     if no%item==0:\n",
    "       sum=sum+item\n",
    "     if sum==no:\n",
    "        return f\"{sum}is perfect number\"\n",
    "perfect_no()\n",
    "         "
   ]
  },
  {
   "cell_type": "code",
   "execution_count": 55,
   "id": "295c1a3e-5327-42e6-b3b2-e37f241b6b22",
   "metadata": {},
   "outputs": [
    {
     "data": {
      "text/plain": [
       "True"
      ]
     },
     "execution_count": 55,
     "metadata": {},
     "output_type": "execute_result"
    }
   ],
   "source": [
    "def perfect_no(n):\n",
    " sum=0\n",
    " for i in range(1,n):\n",
    "    if n%i==0:\n",
    "        sum+=i\n",
    " return sum==n\n",
    "\n",
    "perfect_no(6)"
   ]
  },
  {
   "cell_type": "code",
   "execution_count": 73,
   "id": "d36d3bde-a489-4ae1-b91a-297b517bc6c8",
   "metadata": {},
   "outputs": [
    {
     "data": {
      "text/plain": [
       "(1, 9)"
      ]
     },
     "execution_count": 73,
     "metadata": {},
     "output_type": "execute_result"
    }
   ],
   "source": [
    "#Dizi İçinde En Büyük ve En Küçük Değer Bulma: \n",
    "#Bir dizideki en büyük ve en küçük sayıları bulan bir fonksiyon yazın.\n",
    "def the_smallest_and_the_highest_no(array):\n",
    "    the_smallest_no=array[0]\n",
    "    the_highest_no=array[0]\n",
    "    for i in array[1:]:\n",
    "         if i<the_smallest_no:\n",
    "           the_smallest_no=i #i değişkenine atama yaparken, the_smallest_no ve the_highest_no'yu güncelle.\n",
    "         if i>the_highest_no:\n",
    "           the_highest_no=i\n",
    "\n",
    "    \n",
    "    return the_smallest_no,the_highest_no\n",
    "the_smallest_and_the_highest_no([3, 5, 1, 7, 9])"
   ]
  },
  {
   "cell_type": "code",
   "execution_count": 75,
   "id": "cfae7baa-c428-462e-bab4-2b4fa325b73b",
   "metadata": {},
   "outputs": [
    {
     "data": {
      "text/plain": [
       "120"
      ]
     },
     "execution_count": 75,
     "metadata": {},
     "output_type": "execute_result"
    }
   ],
   "source": [
    "#Faktöriyel Hesaplama: Bir sayının faktöriyelini hesaplayan bir fonksiyon yazın.\n",
    "\n",
    "def factorization(n):\n",
    "    if n==0:\n",
    "        return 1\n",
    "    else:\n",
    "        return n*factorization(n-1)\n",
    "\n",
    "factorization(5)\n",
    "\n",
    "\n"
   ]
  },
  {
   "cell_type": "code",
   "execution_count": 91,
   "id": "cd096f4d-a552-4a38-a98c-40679c2104d1",
   "metadata": {},
   "outputs": [
    {
     "name": "stdin",
     "output_type": "stream",
     "text": [
      "say to me a number 569\n"
     ]
    },
    {
     "name": "stdout",
     "output_type": "stream",
     "text": [
      "20\n"
     ]
    }
   ],
   "source": [
    "#Basamak Toplamı: Kullanıcıdan alınan bir sayının basamaklarının toplamını bulan bir program yazın.\n",
    "def summ_of_digit_place():\n",
    "  no=input(\"say to me a number\")\n",
    "  sum=0\n",
    "  for i in no:\n",
    "   sum=sum+int(i)\n",
    "  print(sum)\n",
    "\n",
    "\n",
    "\n",
    "\n",
    "\n",
    "\n",
    "summ_of_digit_place()"
   ]
  },
  {
   "cell_type": "code",
   "execution_count": 93,
   "id": "76c1ee02-7a59-4ae7-b06a-dcd4ad4d14d5",
   "metadata": {},
   "outputs": [
    {
     "name": "stdout",
     "output_type": "stream",
     "text": [
      "10\n"
     ]
    }
   ],
   "source": [
    "def  sum_of_digit_place(n):\n",
    " sum=0\n",
    " while n>0:\n",
    "  sum+=n%10\n",
    "  n=n//10\n",
    "  return sum\n",
    "\n",
    "sum_of_digit_place(1234)\n",
    "\n",
    "\n"
   ]
  },
  {
   "cell_type": "code",
   "execution_count": 97,
   "id": "bb100970-7f47-4e20-b9e0-1d26727d9701",
   "metadata": {},
   "outputs": [
    {
     "data": {
      "text/plain": [
       "[4, 3, 2, 1]"
      ]
     },
     "execution_count": 97,
     "metadata": {},
     "output_type": "execute_result"
    }
   ],
   "source": [
    "#Dizi Ters Çevirme: Verilen bir diziyi tersine çeviren bir fonksiyon yazın.\n",
    "def reversed_array(array):\n",
    " return array[::-1]\n",
    "\n",
    "reversed_array ([1, 2, 3, 4])   \n",
    "    "
   ]
  },
  {
   "cell_type": "code",
   "execution_count": 34,
   "id": "73aa8d1a-86b5-4d31-bb8f-57adc5403f82",
   "metadata": {},
   "outputs": [
    {
     "name": "stdin",
     "output_type": "stream",
     "text": [
      "bitte wahlen ein satz wie Heissen SİE Sİe\n"
     ]
    },
    {
     "data": {
      "text/plain": [
       "{'wie': 1, 'heissen': 1, 'si̇e': 2}"
      ]
     },
     "execution_count": 34,
     "metadata": {},
     "output_type": "execute_result"
    }
   ],
   "source": [
    "#Kelime Sayacı: Bir metin içinde belirli bir kelimenin kaç kez geçtiğini bulan bir program yazın.\n",
    "def wort_nummer1():\n",
    " satz=input(\"bitte wahlen ein satz\")#cumle sec\n",
    " wort_nummer={}\n",
    " satz=satz.lower()#cumleyi kucuk harfe cevir.\n",
    " for wort1 in satz.split(): #cumledeki keşmeleri kır.\n",
    "    if wort1 in wort_nummer:\n",
    "         wort_nummer[wort1]+=1\n",
    "    else:\n",
    "         wort_nummer[wort1]=1\n",
    " return wort_nummer\n",
    "    \n",
    "wort_nummer1()         "
   ]
  },
  {
   "cell_type": "code",
   "execution_count": 158,
   "id": "2f1dc234-e3aa-4bd9-895d-62e2d513198d",
   "metadata": {
    "scrolled": true
   },
   "outputs": [
    {
     "name": "stdout",
     "output_type": "stream",
     "text": [
      "bu bir deneme metni bu metin bi̇r deneme.\n",
      "['bu', 'bir', 'deneme', 'metni', 'bu', 'metin', 'bi̇r', 'deneme.']\n",
      "deneme\n",
      "1\n"
     ]
    }
   ],
   "source": [
    "def counter(sentences,word):\n",
    " sentences=sentences.lower()\n",
    " print(sentences)\n",
    " \n",
    " words=sentences.split()\n",
    " print(words)\n",
    " \n",
    " word=word.lower()\n",
    " print(word)\n",
    "    \n",
    " count=words.count(word)\n",
    " return count\n",
    "\n",
    "\n",
    "print(counter(\"Bu bir deneme metni Bu metin Bİr Deneme.\", \"Deneme\"))"
   ]
  },
  {
   "cell_type": "code",
   "execution_count": 42,
   "id": "983075fa-fea3-43af-8c2d-2454f1c9536e",
   "metadata": {},
   "outputs": [
    {
     "data": {
      "text/plain": [
       "[1, 2, 3, 4, 5]"
      ]
     },
     "execution_count": 42,
     "metadata": {},
     "output_type": "execute_result"
    }
   ],
   "source": [
    "#Dizi Elemanlarını Tekrarsız Hale Getirme: \n",
    "#Bir dizideki tekrar eden elemanları silerek tekrarsız bir dizi elde eden bir fonksiyon yazın.\n",
    "\n",
    "def nonrecurring_array(array):\n",
    " return list(set(array))   \n",
    "\n",
    "\n",
    "nonrecurring_array([1, 2, 2, 3, 4, 4, 5])"
   ]
  },
  {
   "cell_type": "code",
   "execution_count": 55,
   "id": "8ecfbbc3-d773-4267-b9a5-4d6665c70a19",
   "metadata": {},
   "outputs": [
    {
     "name": "stdin",
     "output_type": "stream",
     "text": [
      "sprichst mit mich reissepass\n"
     ]
    },
    {
     "data": {
      "text/plain": [
       "{'r': 1, 'e': 2, 'i': 1, 's': 4, 'p': 1, 'a': 1}"
      ]
     },
     "execution_count": 55,
     "metadata": {},
     "output_type": "execute_result"
    }
   ],
   "source": [
    "#Harfi Kaç Kez İçerdiğini Bulma: \n",
    "#Kullanıcıdan bir cümle ve bir harf alıp, cümlede harfin kaç kez geçtiğini hesaplayan program.\n",
    "def suche():\n",
    " wort=input(\"sprichst mit mich\")\n",
    " wort_nummer={}\n",
    " for satzglied in wort:\n",
    "    if satzglied in wort_nummer:\n",
    "        wort_nummer[satzglied]+=1\n",
    "    else:\n",
    "        wort_nummer[satzglied]=1\n",
    "\n",
    " return wort_nummer\n",
    "\n",
    "suche()    "
   ]
  },
  {
   "cell_type": "code",
   "execution_count": 5,
   "id": "480f76cb-de9c-41fa-8c6f-3b8d011fddbb",
   "metadata": {},
   "outputs": [
    {
     "data": {
      "text/plain": [
       "2"
      ]
     },
     "execution_count": 5,
     "metadata": {},
     "output_type": "execute_result"
    }
   ],
   "source": [
    "def finde(satz,brief):\n",
    " satz=satz.lower()\n",
    " brief=brief.lower()\n",
    " return satz.count(brief)\n",
    "finde(\"Ich Mochte ESSEN EINEN PIZZA\",\"z\")"
   ]
  },
  {
   "cell_type": "code",
   "execution_count": 79,
   "id": "50dc67fb-6974-4e1b-b1ab-a6749803e5e7",
   "metadata": {},
   "outputs": [
    {
     "data": {
      "text/plain": [
       "12388266"
      ]
     },
     "execution_count": 79,
     "metadata": {},
     "output_type": "execute_result"
    }
   ],
   "source": [
    "\n",
    "#Çok Basamaklı Sayıların Çarpımı: İki çok basamaklı sayının çarpımını manuel olarak hesaplayan bir program.\n",
    "\n",
    "def multiplication(no1,no2):\n",
    " return no1*no2\n",
    "multiplication(1254,9879)"
   ]
  },
  {
   "cell_type": "code",
   "execution_count": 102,
   "id": "accfa3d2-5dea-4803-97aa-bff4b2747d3c",
   "metadata": {},
   "outputs": [
    {
     "name": "stdin",
     "output_type": "stream",
     "text": [
      "wahlen einen nummer 6\n"
     ]
    },
    {
     "name": "stdout",
     "output_type": "stream",
     "text": [
      "1*1=1\n",
      "1*2=2\n",
      "1*3=3\n",
      "1*4=4\n",
      "1*5=5\n",
      "1*6=6\n",
      "\n",
      "2*1=2\n",
      "2*2=4\n",
      "2*3=6\n",
      "2*4=8\n",
      "2*5=10\n",
      "2*6=12\n",
      "\n",
      "3*1=3\n",
      "3*2=6\n",
      "3*3=9\n",
      "3*4=12\n",
      "3*5=15\n",
      "3*6=18\n",
      "\n",
      "4*1=4\n",
      "4*2=8\n",
      "4*3=12\n",
      "4*4=16\n",
      "4*5=20\n",
      "4*6=24\n",
      "\n",
      "5*1=5\n",
      "5*2=10\n",
      "5*3=15\n",
      "5*4=20\n",
      "5*5=25\n",
      "5*6=30\n",
      "\n",
      "6*1=6\n",
      "6*2=12\n",
      "6*3=18\n",
      "6*4=24\n",
      "6*5=30\n",
      "6*6=36\n",
      "\n"
     ]
    }
   ],
   "source": [
    "# Çarpım Tablosu: Kullanıcıdan bir sayı alarak o sayıya kadar çarpım tablosunu ekrana yazdıran program.\n",
    "def multiplication_table():\n",
    " \n",
    " n=int(input(\"wahlen einen nummer\"))\n",
    " for i in range(1,n+1):\n",
    "  for j in range(1,n+1):\n",
    "   print(f\"{i}*{j}={i*j}\")\n",
    "  print()\n",
    "multiplication_table()"
   ]
  },
  {
   "cell_type": "code",
   "execution_count": 122,
   "id": "db96b0d9-d92e-4b53-ad86-b9d0109e36d4",
   "metadata": {},
   "outputs": [
    {
     "data": {
      "text/plain": [
       "[11, 12, 22, 25, 34, 64, 90]"
      ]
     },
     "execution_count": 122,
     "metadata": {},
     "output_type": "execute_result"
    }
   ],
   "source": [
    "#Listeyi Sıralama (Bubble Sort): Bir listenin elemanlarını küçükten büyüğe sıralayan bubble sort algoritması ile bir program yazın.\n",
    "\n",
    "def bubble_sort(array):\n",
    " n=len(array)\n",
    " for i in range(n):# dış döngü, n kez  dönecek\n",
    "    for j in range(0,n-i-1):# iç döngü, her seferinde son elemanı dışarıda bırakacak\n",
    "      if array[j]>array[j+1]: # karşılaştırma\n",
    "          array[j],array[j+1]=array[j+1],array[j]# takas\n",
    "\n",
    " return array\n",
    "bubble_sort([64, 34, 25, 12, 22, 11, 90])"
   ]
  },
  {
   "cell_type": "code",
   "execution_count": 9,
   "id": "085511b3-4132-4aef-ba5b-586fcefe4714",
   "metadata": {},
   "outputs": [
    {
     "data": {
      "text/plain": [
       "[11, 12, 22, 25, 34, 64, 90]"
      ]
     },
     "execution_count": 9,
     "metadata": {},
     "output_type": "execute_result"
    }
   ],
   "source": [
    "#Listeyi Sıralama (Bubble Sort): Bir listenin elemanlarını küçükten büyüğe sıralayan bubble sort algoritması ile bir program yazın.\n",
    "\n",
    "def bubble_sort(array):\n",
    " n=len(array)\n",
    " for i in range(n):\n",
    "     for j in range(0,n-i-1):\n",
    "        if array[j]>array[j+1]:\n",
    "         array[j], array[j+1]=array[j+1],array[j]\n",
    " return array\n",
    "bubble_sort([64, 34, 25, 12, 22, 11, 90])"
   ]
  },
  {
   "cell_type": "code",
   "execution_count": 25,
   "id": "989505f1-cd98-402a-99c5-359f825016b0",
   "metadata": {},
   "outputs": [
    {
     "data": {
      "text/plain": [
       "[2, 4]"
      ]
     },
     "execution_count": 25,
     "metadata": {},
     "output_type": "execute_result"
    }
   ],
   "source": [
    "#Dizide Tekrarlayan Elemanlar: Bir dizide hangi elemanların kaç kez tekrarlandığını bulan bir fonksiyon yazın.\n",
    "def recurred_array(array):\n",
    " recurred_array_list=[]\n",
    " for i in array:\n",
    "     if array.count(i)>1 and not i in recurred_array_list :\n",
    "       recurred_array_list.append(i)\n",
    " return  recurred_array_list\n",
    "recurred_array(([1, 2, 2, 3, 4, 4, 5]))"
   ]
  },
  {
   "cell_type": "code",
   "execution_count": 13,
   "id": "4dff2948-eb91-4892-ab50-fff0bd072137",
   "metadata": {},
   "outputs": [
    {
     "name": "stdout",
     "output_type": "stream",
     "text": [
      "[[1, 4, 7], [2, 5, 8], [3, 6, 9]]\n"
     ]
    }
   ],
   "source": [
    "#NxN boyutunda bir matrisin transpozesini hesaplayan bir program.\n",
    "def matris_transpose(matris):\n",
    "\n",
    " print (list(map(list, zip(*matris))))\n",
    "\n",
    "matris = [[1, 2, 3], [4, 5, 6], [7, 8, 9]]\n",
    "\n",
    "matris_transpose(matris)"
   ]
  },
  {
   "cell_type": "code",
   "execution_count": null,
   "id": "5174fac4-a13c-4cac-88b9-f4e56cf3b2ef",
   "metadata": {},
   "outputs": [],
   "source": [
    "#zip Fonksiyonu ve Tuple’lar\n",
    "#, zip(*matris) ifadesi ile elde ettiğimiz sonuç şu şekildedir:\n",
    "\n",
    "[(1, 4, 7), (2, 5, 8), (3, 6, 9)]\n",
    "#Burada her bir grup, bir tuple (demet) olarak temsil edilmektedir. \n",
    "#Python’da tuple veri yapıları, değiştirilemez (immutable) oldukları için, üzerinde bazı işlemler yapma kabiliyetine sahip değildirler. \n",
    "#Örneğin, tuple içindeki elemanları değiştiremezsiniz veya eleman ekleyemezsiniz.\n",
    "\n",
    "#map(list, ...) ifadesi, yukarıdaki tuple listesindeki her bir tuple için list fonksiyonunu uygular. Yani, sonuç şu şekilde olur:\n",
    "#(1, 4, 7) → [1, 4, 7]\n",
    "#(2, 5, 8) → [2, 5, 8]\n",
    "#(3, 6, 9) → [3, 6, 9]\n",
    "#map() fonksiyonu, bir map nesnesi döndürür, \n",
    "#bu yüzden bunu listeye dönüştürmek için list(...) ile sarıyoruz. \n",
    "#Bu işlem, sonuçların daha kullanışlı bir yapıda olmasını sağlar."
   ]
  },
  {
   "cell_type": "code",
   "execution_count": 87,
   "id": "c4a9d658-741d-4e67-a2c1-cadadde69f39",
   "metadata": {},
   "outputs": [
    {
     "data": {
      "text/plain": [
       "[2, 3, 3, 4]"
      ]
     },
     "execution_count": 87,
     "metadata": {},
     "output_type": "execute_result"
    }
   ],
   "source": [
    "#Dizilerde Ardışık Aynı Elemanlar:\n",
    "#Bir dizide ardışık aynı elemanların kaç kez tekrarlandığını bulan bir program yazın.\n",
    "def consecutive_recurrence(array):\n",
    "   \n",
    "    consecutive_recurrence_list=[]\n",
    "    for i in range(len(array)):\n",
    "       if array[i]==array[i-1]:\n",
    "        \n",
    "           consecutive_recurrence_list.append(array[i])\n",
    "    return consecutive_recurrence_list\n",
    "\n",
    "consecutive_recurrence([1, 2, 2, 3, 3, 3, 4, 4])"
   ]
  },
  {
   "cell_type": "code",
   "execution_count": 91,
   "id": "5baa4ed5-8982-4d33-bafe-d6fca8a51357",
   "metadata": {},
   "outputs": [
    {
     "name": "stdin",
     "output_type": "stream",
     "text": [
      "Say to me a word siSSsss\n"
     ]
    },
    {
     "data": {
      "text/plain": [
       "{'s': 6, 'i': 1}"
      ]
     },
     "execution_count": 91,
     "metadata": {},
     "output_type": "execute_result"
    }
   ],
   "source": [
    "#Karakter Dizisinin Tekrarlayan Harflerini Bulma:\n",
    "#Bir kelimenin içinde tekrarlayan harfleri bulan bir program yazın.\n",
    "\n",
    "def consecutive_recurrence(letter):\n",
    "    word=input(\"Say to me a word\")\n",
    "    word=word.lower()\n",
    "    letter=letter.lower()\n",
    "    word_dict={}\n",
    "    for letter in word:\n",
    "        if letter in   word_dict:\n",
    "            word_dict[letter]+=1\n",
    "        else:\n",
    "            word_dict[letter]=1\n",
    "    return word_dict\n",
    "consecutive_recurrence(\"S\")        "
   ]
  },
  {
   "cell_type": "code",
   "execution_count": 117,
   "id": "96860bed-5768-4ec1-8fa9-b05c77bc0203",
   "metadata": {},
   "outputs": [
    {
     "data": {
      "text/plain": [
       "Counter({'l': 3, 'H': 1, 'e': 1, 'o': 1})"
      ]
     },
     "execution_count": 117,
     "metadata": {},
     "output_type": "execute_result"
    }
   ],
   "source": [
    "from collections import Counter\n",
    "def consecutive_recurrence(word):\n",
    "  return Counter(word)  \n",
    "\n",
    "\n",
    "consecutive_recurrence(\"Helllo\")"
   ]
  },
  {
   "cell_type": "code",
   "execution_count": 119,
   "id": "1d44e7d1-bb27-4719-b03d-d2bac7d76cbe",
   "metadata": {},
   "outputs": [
    {
     "data": {
      "text/plain": [
       "['l']"
      ]
     },
     "execution_count": 119,
     "metadata": {},
     "output_type": "execute_result"
    }
   ],
   "source": [
    "from collections import Counter\n",
    "def consecutive_recurrence(word):  \n",
    " return [letter for letter,number in Counter(word).items() if number>1]\n",
    "\n",
    "consecutive_recurrence(\"Helllo\")"
   ]
  },
  {
   "cell_type": "code",
   "execution_count": 145,
   "id": "1752c544-68c1-41ee-a7cc-f02464e2864a",
   "metadata": {},
   "outputs": [
    {
     "name": "stdout",
     "output_type": "stream",
     "text": [
      "[1, 2, 3]\n",
      "[6, 5, 4]\n",
      "[7, 8, 9]\n"
     ]
    }
   ],
   "source": [
    "def zigzag_matris(matris):\n",
    "    for index,item in enumerate(matris):\n",
    "        if index%2==0:   \n",
    "            print(item)\n",
    "        else:\n",
    "            print(item[::-1])#enumerate(matris) kullanılarak, matrisin her bir satırını döngü ile gezmek için bir for döngüsü kurulur. \n",
    "            #i değişkeni satırın indeksini (sırasını), satir değişkeni ise o satırın kendisini temsil eder.\n",
    " \n",
    "zigzag_matris([[1, 2, 3], [4, 5, 6], [7, 8, 9]])"
   ]
  },
  {
   "cell_type": "code",
   "execution_count": 27,
   "id": "6d1b37c8-a0a7-4fbc-8b0c-b010dca52420",
   "metadata": {},
   "outputs": [
    {
     "data": {
      "text/plain": [
       "Counter({2: 4, 1: 1, 3: 1})"
      ]
     },
     "execution_count": 27,
     "metadata": {},
     "output_type": "execute_result"
    }
   ],
   "source": [
    "from collections import Counter\n",
    "def consecutive_recurrence(liste):  \n",
    " return Counter(liste)\n",
    "\n",
    "\n",
    "consecutive_recurrence([1, 2, 3,2,2,2])\n",
    "\n",
    "    "
   ]
  },
  {
   "cell_type": "code",
   "execution_count": null,
   "id": "49fdb0a6-8e28-449c-a0e3-0de4b933153c",
   "metadata": {},
   "outputs": [],
   "source": []
  }
 ],
 "metadata": {
  "kernelspec": {
   "display_name": "Python 3 (ipykernel)",
   "language": "python",
   "name": "python3"
  },
  "language_info": {
   "codemirror_mode": {
    "name": "ipython",
    "version": 3
   },
   "file_extension": ".py",
   "mimetype": "text/x-python",
   "name": "python",
   "nbconvert_exporter": "python",
   "pygments_lexer": "ipython3",
   "version": "3.12.4"
  }
 },
 "nbformat": 4,
 "nbformat_minor": 5
}
